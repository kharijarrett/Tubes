{
 "cells": [
  {
   "cell_type": "code",
   "execution_count": 16,
   "metadata": {},
   "outputs": [
    {
     "name": "stdout",
     "output_type": "stream",
     "text": [
      "this is working\n",
      "C:\\Users\\f002tj9\\Documents\\Research\\kj\\TubeFile2020\\ski1_tubelist.csv\n"
     ]
    }
   ],
   "source": [
    "import pandas as pd \n",
    "import numpy as np\n",
    "import os\n",
    "\n",
    "print(\"this is working\")\n",
    "\n",
    "tubefolder = os.getcwd() + \"\\TubeFile2020\\\\\"\n",
    "tubefile = tubefolder + \"ski1_tubelist.csv\"\n",
    "\n",
    "print(tubefile)\n",
    "\n",
    "\n",
    "data = pd.read_csv(tubefile)"
   ]
  },
  {
   "cell_type": "code",
   "execution_count": 22,
   "metadata": {},
   "outputs": [
    {
     "name": "stdout",
     "output_type": "stream",
     "text": [
      "<class 'numpy.ndarray'>\n",
      "[ 1.56433482e+00  1.51407252e+00 -1.47737167e+00 -1.29707856e+00\n",
      " -1.30493964e+00 -1.29085234e+00  5.86669755e-02  5.86669755e-02\n",
      " -8.95106453e-02 -2.26221010e-12]\n",
      "7810\n"
     ]
    }
   ],
   "source": [
    "#Saving all of the stuff into np arrays (vectors)\n",
    "\n",
    "type(data)\n",
    "X = np.asarray(data['x'])\n",
    "Y = np.asarray(data['y'])\n",
    "A = np.asarray(data['a'])\n",
    "B = np.asarray(data['b'])\n",
    "ROT = np.asarray(data['rot'])\n",
    "F = np.asarray(data['f'])\n",
    "VX = np.asarray(data['Vx'])\n",
    "VY = np.asarray(data['Vy'])\n",
    "TNUM = np.asarray(data['tubenum'])\n",
    "print(type(X))\n",
    "print(ROT[0:10])\n",
    "print(len(VY))"
   ]
  },
  {
   "cell_type": "code",
   "execution_count": null,
   "metadata": {},
   "outputs": [],
   "source": []
  }
 ],
 "metadata": {
  "kernelspec": {
   "display_name": "Python 3",
   "language": "python",
   "name": "python3"
  },
  "language_info": {
   "codemirror_mode": {
    "name": "ipython",
    "version": 3
   },
   "file_extension": ".py",
   "mimetype": "text/x-python",
   "name": "python",
   "nbconvert_exporter": "python",
   "pygments_lexer": "ipython3",
   "version": "3.7.4"
  }
 },
 "nbformat": 4,
 "nbformat_minor": 2
}
